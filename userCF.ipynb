{
 "cells": [
  {
   "cell_type": "code",
   "execution_count": 267,
   "metadata": {
    "scrolled": true
   },
   "outputs": [
    {
     "name": "stderr",
     "output_type": "stream",
     "text": [
      "/Users/wangrui/anaconda/lib/python3.6/site-packages/ipykernel_launcher.py:2: ParserWarning: Falling back to the 'python' engine because the 'c' engine does not support regex separators (separators > 1 char and different from '\\s+' are interpreted as regex); you can avoid this warning by specifying engine='python'.\n",
      "  \n"
     ]
    }
   ],
   "source": [
    "import pandas as pd\n",
    "out=pd.read_csv('./data/views.dat',sep='::',header = None,names=['userid','itemid','time'])\n",
    "# out"
   ]
  },
  {
   "cell_type": "code",
   "execution_count": null,
   "metadata": {
    "collapsed": true
   },
   "outputs": [],
   "source": [
    "# out.pivot(index='userid',columns='itemid',values='1')"
   ]
  },
  {
   "cell_type": "code",
   "execution_count": 266,
   "metadata": {},
   "outputs": [],
   "source": [
    "# userCF\n",
    "item_users = dict()\n",
    "for row in out.itertuples():\n",
    "#     print(row[0],row[1],row[2],row[3])\n",
    "    item_users.setdefault(row[2], set())\n",
    "    item_users[row[2]].add((row[1],row[3]))\n",
    "# print(\"ok\")\n",
    "# item_users"
   ]
  },
  {
   "cell_type": "code",
   "execution_count": 241,
   "metadata": {},
   "outputs": [],
   "source": [
    "# len(item_users.items())\n",
    "useritemcount=dict()        # 每个用户的访问总量\n",
    "useritemcount = out.groupby(out['userid']).size().to_dict()\n",
    "# useritemcount\n",
    "\n",
    "# itemusercount=dict()        # 每个item的访问用户总量\n",
    "# itemusercount = out.groupby(out['itemid']).size().to_dict()\n",
    "# itemusercount"
   ]
  },
  {
   "cell_type": "code",
   "execution_count": 264,
   "metadata": {
    "scrolled": true
   },
   "outputs": [],
   "source": [
    "# ################################################################################\n",
    "# userCF 算法\n",
    "import datetime\n",
    "uanduitem=dict()\n",
    "a = out[['itemid','userid']].sort_values(by=['itemid'])\n",
    "uids = pd.Series(a['itemid']).unique()\n",
    "# b = a[a['itemid']==uid]\n",
    "uidbyitemid = pd.Series(b['userid'])\n",
    "start = datetime.datetime.now()\n",
    "print('start==',start)\n",
    "for uid in uids:\n",
    "    b = a[a['itemid']==uid]\n",
    "    uidbyitemid = pd.Series(b['userid']).unique()\n",
    "    for u in uidbyitemid:\n",
    "        for v in uidbyitemid:\n",
    "            if u ==v:\n",
    "                continue\n",
    "            uanduitem.setdefault(u, {})\n",
    "            uanduitem[u].setdefault(v, 0)\n",
    "            uanduitem[u][v] += 1\n",
    "end = datetime.datetime.now()\n",
    "print('end==',end)\n",
    "print('times==',end-start)"
   ]
  },
  {
   "cell_type": "code",
   "execution_count": 262,
   "metadata": {},
   "outputs": [
    {
     "name": "stdout",
     "output_type": "stream",
     "text": [
      "2018-03-23 10:10:44.025293\n",
      "2018-03-23 10:10:45.817210\n",
      "0:00:01.791917\n"
     ]
    }
   ],
   "source": [
    "import math\n",
    "W = dict()\n",
    "start = datetime.datetime.now()\n",
    "print(start)\n",
    "for u,ru in uanduitem.items():\n",
    "    for v, cuv in ru.items():\n",
    "        W.setdefault(u, {})\n",
    "        W[u].setdefault(v, cuv / math.sqrt(useritemcount[u] * useritemcount[v]))\n",
    "end = datetime.datetime.now()\n",
    "print(end)\n",
    "print(end-start)\n",
    "# ################################################################################"
   ]
  },
  {
   "cell_type": "code",
   "execution_count": null,
   "metadata": {
    "collapsed": true
   },
   "outputs": [],
   "source": [
    "# ################################################################################\n",
    "# userCF-IIF 算法\n",
    "import datetime\n",
    "uanduitem=dict()\n",
    "a = out[['itemid','userid']].sort_values(by=['itemid'])\n",
    "uids = pd.Series(a['itemid']).unique()\n",
    "# b = a[a['itemid']==uid]\n",
    "uidbyitemid = pd.Series(b['userid'])\n",
    "start = datetime.datetime.now()\n",
    "print('start==',start)\n",
    "for uid in uids:\n",
    "    b = a[a['itemid']==uid]\n",
    "    uidbyitemid = pd.Series(b['userid']).unique()\n",
    "    usercount = len(uidbyitemid)\n",
    "    for u in uidbyitemid:\n",
    "        for v in uidbyitemid:\n",
    "            if u ==v:\n",
    "                continue\n",
    "            uanduitem.setdefault(u, {})\n",
    "            uanduitem[u].setdefault(v, 0)\n",
    "            uanduitem[u][v] += 1 / math.log(1 + usercount)    #userCF 和userCF-IIF唯一的区别\n",
    "end = datetime.datetime.now()\n",
    "print('end==',end)\n",
    "print('times==',end-start)"
   ]
  },
  {
   "cell_type": "code",
   "execution_count": null,
   "metadata": {
    "collapsed": true
   },
   "outputs": [],
   "source": [
    "import math\n",
    "W = dict()\n",
    "start = datetime.datetime.now()\n",
    "print(start)\n",
    "for u,ru in uanduitem.items():\n",
    "    for v, cuv in ru.items():\n",
    "        W.setdefault(u, {})\n",
    "        W[u].setdefault(v, cuv / math.sqrt(useritemcount[u] * useritemcount[v]))\n",
    "end = datetime.datetime.now()\n",
    "print(end)\n",
    "print(end-start)\n",
    "# ################################################################################"
   ]
  },
  {
   "cell_type": "code",
   "execution_count": 259,
   "metadata": {
    "collapsed": true
   },
   "outputs": [],
   "source": [
    "useritemslist = dict()\n",
    "for i in item_users.keys():\n",
    "    a = out[['userid','itemid']]\n",
    "    b = pd.Series(a[a['userid']==i]['itemid']).unique()\n",
    "    useritemslist[i] = b"
   ]
  },
  {
   "cell_type": "code",
   "execution_count": 330,
   "metadata": {
    "scrolled": false
   },
   "outputs": [],
   "source": [
    "#可同时用于userCF 和userCF-IIF\n",
    "def Recommend(user, K=20, N=20):\n",
    "    from operator import itemgetter, attrgetter\n",
    "    rank = dict()\n",
    "    rvi =1\n",
    "    interacted_items = useritemslist[user]\n",
    "    if user in W.keys():\n",
    "        for v, wuv in sorted(W[user].items(), key=itemgetter(1),reverse=True)[0:K]:\n",
    "            for i in useritemslist[v]:\n",
    "                 if i in interacted_items:\n",
    "                     #we should filter items user interacted before\n",
    "                     continue\n",
    "                 rank.setdefault(i, 0)\n",
    "                 rank[i] += wuv * rvi\n",
    "                 \n",
    "        ret = sorted(rank.items(),key=itemgetter(1),reverse=True)\n",
    "        # ret = sorted([(k,v)for k,v in rank.items()],key=itemgetter(1),reverse=True)\n",
    "        return ret[:N]\n",
    "    else:\n",
    "        return []\n",
    "# Recommend(1)\n",
    "# Recommend(10)"
   ]
  },
  {
   "cell_type": "code",
   "execution_count": null,
   "metadata": {
    "collapsed": true
   },
   "outputs": [],
   "source": [
    "# ##################################################################################\n",
    "# userCF-TIME 算法, 加入了时间衰减因素\n",
    "import datetime\n",
    "uanduitem=dict()\n",
    "alpha = 0.5\n",
    "a = out[['itemid','userid']].sort_values(by=['itemid'])\n",
    "uids = pd.Series(a['itemid']).unique()\n",
    "# b = a[a['itemid']==uid][['userid','time']]\n",
    "# uidbyitemid = pd.Series(b['userid']).unique()\n",
    "start = datetime.datetime.now()\n",
    "print('start==',start)\n",
    "for uid in uids:\n",
    "    uidtimebyitemid = a[a['itemid']==uid][['userid','time']]\n",
    "    uidtimebyitemid = pd.Series(b['userid']).unique()\n",
    "    usercount = uidtimebyitemid.shape[0]\n",
    "    for u in uidtimebyitemid:\n",
    "        for v in uidtimebyitemid:\n",
    "            if u[1] == v[1:\n",
    "                continue\n",
    "            uanduitem.setdefault(u, {})\n",
    "            uanduitem[u].setdefault(v, 0)\n",
    "            uanduitem[u][v] += 1 / (1 + alpha *(u[2]-v[2]))    #userCF 和userCF-IIF唯一的区别\n",
    "end = datetime.datetime.now()\n",
    "print('end==',end)\n",
    "print('times==',end-start)"
   ]
  },
  {
   "cell_type": "code",
   "execution_count": null,
   "metadata": {
    "collapsed": true
   },
   "outputs": [],
   "source": [
    "import math\n",
    "W = dict()\n",
    "start = datetime.datetime.now()\n",
    "print(start)\n",
    "for u,ru in uanduitem.items():\n",
    "    for v, cuv in ru.items():\n",
    "        W.setdefault(u, {})\n",
    "        W[u].setdefault(v, cuv / math.sqrt(useritemcount[u] * useritemcount[v]))\n",
    "end = datetime.datetime.now()\n",
    "print(end)\n",
    "print(end-start)\n",
    "# ################################################################################"
   ]
  },
  {
   "cell_type": "code",
   "execution_count": 328,
   "metadata": {},
   "outputs": [],
   "source": [
    "#可同时用于userCF 和userCF-IIF\n",
    "useritemstimeslist = dict()\n",
    "for i in item_users.keys():\n",
    "    a = out[['userid','itemid','time']]\n",
    "    b = a[a['userid']==i][['itemid','time']]\n",
    "    useritemstimeslist[i] = b\n",
    "def RecommendTime(user, alpha, t0, K=20, N=20): #t0时间\n",
    "    from operator import itemgetter, attrgetter\n",
    "    rank = dict()\n",
    "    rvi =1\n",
    "    interacted_items = useritemstimeslist[user]['itemid'].unique()\n",
    "    if user in W.keys():\n",
    "        for v, wuv in sorted(W[user].items(), key=itemgetter(1),reverse=True)[0:K]:\n",
    "            for i in useritemstimeslist[v]:\n",
    "                 if i[1] in interacted_items:\n",
    "                     #we should filter items user interacted before\n",
    "                     continue\n",
    "                 rank.setdefault(i, 0)\n",
    "                 rank[i] += wuv /(1+alpha*(t0-i[2]))\n",
    "                 \n",
    "        ret = sorted(rank.items(),key=itemgetter(1),reverse=True)\n",
    "        return ret[:N]\n",
    "    else:\n",
    "        return []\n",
    "import time\n",
    "\n",
    "# Recommend(1,0.5,int(time.time()))\n",
    "# Recommend(10)"
   ]
  },
  {
   "cell_type": "code",
   "execution_count": 329,
   "metadata": {},
   "outputs": [],
   "source": [
    "useritemstimeslist = dict()\n",
    "for i in item_users.keys():\n",
    "    a = out[['userid','itemid','time']]\n",
    "    b = a[a['userid']==i][['itemid','time']]\n",
    "    useritemstimeslist[i] = b\n",
    "#     print(b)"
   ]
  },
  {
   "cell_type": "code",
   "execution_count": 319,
   "metadata": {},
   "outputs": [
    {
     "data": {
      "text/plain": [
       "array([117,  47, 168,  83,  86, 141,  32,  26, 145, 111,   1,  53,  50,\n",
       "       156,  56, 144,  99,  74, 122, 116,  70, 118,  20,  60,  73, 119,\n",
       "        23,   2, 128,  39, 134,  10, 132, 121,  92, 130, 133, 120,   6,\n",
       "        28,  45,   8, 129,  65, 148, 167,  62,  58, 164, 154, 153,  59,\n",
       "       172, 127,  80, 163,  43,   9, 160,  61,  72,  90,   7, 136, 126,\n",
       "       110, 107, 162,  87,   5, 155, 140, 166,  22,  81,  48, 102,  35,\n",
       "        31,  11,  44,  63,  64, 112,  95,  52,  12, 146,  15, 115, 170,\n",
       "        76, 114, 159,  29,  54,  38,  68,  34,  78, 142, 124, 150, 147,\n",
       "        88, 101,  85,  51, 174, 173,  19, 125, 131, 138,  21,  24, 149,\n",
       "       108,  36,  71,  25,  42,  96, 113, 151, 161,  46,  89,  97, 157,\n",
       "        14,  82])"
      ]
     },
     "execution_count": 319,
     "metadata": {},
     "output_type": "execute_result"
    }
   ],
   "source": [
    "type(useritemstimeslist[10])\n",
    "useritemstimeslist[10]['itemid'].unique()"
   ]
  },
  {
   "cell_type": "code",
   "execution_count": null,
   "metadata": {
    "collapsed": true
   },
   "outputs": [],
   "source": []
  }
 ],
 "metadata": {
  "kernelspec": {
   "display_name": "Python 3",
   "language": "python",
   "name": "python3"
  },
  "language_info": {
   "codemirror_mode": {
    "name": "ipython",
    "version": 3
   },
   "file_extension": ".py",
   "mimetype": "text/x-python",
   "name": "python",
   "nbconvert_exporter": "python",
   "pygments_lexer": "ipython3",
   "version": "3.6.1"
  }
 },
 "nbformat": 4,
 "nbformat_minor": 2
}
