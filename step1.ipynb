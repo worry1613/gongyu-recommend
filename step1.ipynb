{
 "cells": [
  {
   "cell_type": "code",
   "execution_count": 1,
   "metadata": {},
   "outputs": [],
   "source": [
    "import pandas as pd\n",
    "out=pd.read_csv('./data/gongyu.1.csv',index_col = '_id')\n",
    "del out['update_time_i']"
   ]
  },
  {
   "cell_type": "code",
   "execution_count": 2,
   "metadata": {},
   "outputs": [],
   "source": [
    "from sklearn import preprocessing\n",
    "min_max_scaler = preprocessing.MinMaxScaler()\n",
    "out_train_minmax = min_max_scaler.fit_transform(out)"
   ]
  },
  {
   "cell_type": "code",
   "execution_count": 27,
   "metadata": {},
   "outputs": [
    {
     "name": "stdout",
     "output_type": "stream",
     "text": [
      "2018-03-19 22:37:03.968045\n",
      "2018-03-19 22:41:54.872968\n",
      "0:04:50.904923\n"
     ]
    }
   ],
   "source": [
    "from numpy import *\n",
    "from operator import itemgetter, attrgetter\n",
    "import datetime\n",
    "result={}\n",
    "start = datetime.datetime.now()\n",
    "print(start)\n",
    "for i1,v1 in zip(out.index,out_train_minmax):\n",
    "    result[i1] = []\n",
    "    for i2,v2 in zip(out.index,out_train_minmax):\n",
    "        result[i1].append((i2,dot(v1,v2)/(linalg.norm(v1)*linalg.norm(v2)))) \n",
    "    result[i1] = sorted(result[i1],key=itemgetter(1),reverse=True)[1:21]\n",
    "end = datetime.datetime.now()\n",
    "print(end)\n",
    "print(end-start)"
   ]
  },
  {
   "cell_type": "code",
   "execution_count": 29,
   "metadata": {},
   "outputs": [
    {
     "data": {
      "text/plain": [
       "4692"
      ]
     },
     "execution_count": 29,
     "metadata": {},
     "output_type": "execute_result"
    }
   ],
   "source": [
    "len(result)"
   ]
  },
  {
   "cell_type": "code",
   "execution_count": 30,
   "metadata": {},
   "outputs": [
    {
     "data": {
      "text/plain": [
       "[(605, 0.99888890317122458),\n",
       " (3958, 0.99887616002202861),\n",
       " (1746, 0.99884926695272913),\n",
       " (1676, 0.99879164503997608),\n",
       " (3604, 0.99872039338191776),\n",
       " (566, 0.99866288711935935),\n",
       " (2918, 0.99851534663549879),\n",
       " (2523, 0.99850288904362372),\n",
       " (2575, 0.99850173008858167),\n",
       " (1726, 0.99847242998321428),\n",
       " (2548, 0.99845003477269012),\n",
       " (371, 0.99843725743173073),\n",
       " (183, 0.99842484261030473),\n",
       " (4422, 0.99842127967431404),\n",
       " (1494, 0.99840271777938472),\n",
       " (2546, 0.99840271777938472),\n",
       " (1689, 0.99834651076567582),\n",
       " (565, 0.99830756197002357),\n",
       " (1517, 0.99824580007103192),\n",
       " (1983, 0.99824430000292341)]"
      ]
     },
     "execution_count": 30,
     "metadata": {},
     "output_type": "execute_result"
    }
   ],
   "source": [
    "result[1]"
   ]
  },
  {
   "cell_type": "code",
   "execution_count": 31,
   "metadata": {},
   "outputs": [
    {
     "data": {
      "text/plain": [
       "[605,\n",
       " 3958,\n",
       " 1746,\n",
       " 1676,\n",
       " 3604,\n",
       " 566,\n",
       " 2918,\n",
       " 2523,\n",
       " 2575,\n",
       " 1726,\n",
       " 2548,\n",
       " 371,\n",
       " 183,\n",
       " 4422,\n",
       " 1494,\n",
       " 2546,\n",
       " 1689,\n",
       " 565,\n",
       " 1517,\n",
       " 1983]"
      ]
     },
     "execution_count": 31,
     "metadata": {},
     "output_type": "execute_result"
    }
   ],
   "source": [
    "ls = [d[0] for d in result[1]]\n",
    "ls"
   ]
  },
  {
   "cell_type": "code",
   "execution_count": 32,
   "metadata": {
    "collapsed": true
   },
   "outputs": [],
   "source": [
    "import pickle\n",
    "f = open(\"./data/product_recommend_max.max\",\"wb\")\n",
    "pickle.dump(result,f)\n",
    "f.close()"
   ]
  },
  {
   "cell_type": "code",
   "execution_count": 33,
   "metadata": {},
   "outputs": [
    {
     "name": "stdout",
     "output_type": "stream",
     "text": [
      "[(605, 0.99888890317122458), (3958, 0.99887616002202861), (1746, 0.99884926695272913), (1676, 0.99879164503997608), (3604, 0.99872039338191776), (566, 0.99866288711935935), (2918, 0.99851534663549879), (2523, 0.99850288904362372), (2575, 0.99850173008858167), (1726, 0.99847242998321428), (2548, 0.99845003477269012), (371, 0.99843725743173073), (183, 0.99842484261030473), (4422, 0.99842127967431404), (1494, 0.99840271777938472), (2546, 0.99840271777938472), (1689, 0.99834651076567582), (565, 0.99830756197002357), (1517, 0.99824580007103192), (1983, 0.99824430000292341)]\n"
     ]
    }
   ],
   "source": [
    "f = open(\"./data/product_recommend_max.max\",\"rb\")\n",
    "d = pickle.load(f)\n",
    "f.close()\n",
    "print(d[1])"
   ]
  },
  {
   "cell_type": "code",
   "execution_count": null,
   "metadata": {
    "collapsed": true
   },
   "outputs": [],
   "source": []
  }
 ],
 "metadata": {
  "kernelspec": {
   "display_name": "Python 3",
   "language": "python",
   "name": "python3"
  },
  "language_info": {
   "codemirror_mode": {
    "name": "ipython",
    "version": 3
   },
   "file_extension": ".py",
   "mimetype": "text/x-python",
   "name": "python",
   "nbconvert_exporter": "python",
   "pygments_lexer": "ipython3",
   "version": "3.6.1"
  }
 },
 "nbformat": 4,
 "nbformat_minor": 2
}
